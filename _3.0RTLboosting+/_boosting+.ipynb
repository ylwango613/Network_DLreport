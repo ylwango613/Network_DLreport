{
 "cells": [
  {
   "cell_type": "code",
   "execution_count": 2,
   "metadata": {},
   "outputs": [
    {
     "name": "stderr",
     "output_type": "stream",
     "text": [
      "/mnt/lun1/home/dbw/anaconda3/envs/cvnets/lib/python3.10/site-packages/tqdm/auto.py:21: TqdmWarning: IProgress not found. Please update jupyter and ipywidgets. See https://ipywidgets.readthedocs.io/en/stable/user_install.html\n",
      "  from .autonotebook import tqdm as notebook_tqdm\n"
     ]
    }
   ],
   "source": [
    "import torch\n",
    "import torch.nn as nn\n",
    "import torch.optim as optim\n",
    "import torchvision\n",
    "import torchvision.transforms as transforms\n",
    "from torch.utils.data import DataLoader\n",
    "import matplotlib.pyplot as plt\n",
    "import torch.nn.functional as F"
   ]
  },
  {
   "cell_type": "code",
   "execution_count": 3,
   "metadata": {},
   "outputs": [],
   "source": [
    "# 设置设备为GPU（如果可用）\n",
    "device = torch.device(\"cuda\" if torch.cuda.is_available() else \"cpu\")\n",
    "\n",
    "# 定义超参数\n",
    "num_epochs = 25\n",
    "batch_size = 128\n",
    "learning_rate = 0.001"
   ]
  },
  {
   "cell_type": "code",
   "execution_count": 4,
   "metadata": {},
   "outputs": [
    {
     "name": "stdout",
     "output_type": "stream",
     "text": [
      "Files already downloaded and verified\n",
      "Files already downloaded and verified\n"
     ]
    }
   ],
   "source": [
    "# 加载和预处理CIFAR-10数据集\n",
    "transform = transforms.Compose([\n",
    "    transforms.RandomCrop(32, padding=4),\n",
    "    transforms.RandomHorizontalFlip(),\n",
    "    transforms.ToTensor(),\n",
    "    transforms.Normalize(mean=[0.5, 0.5, 0.5], std=[0.5, 0.5, 0.5])\n",
    "])\n",
    "\n",
    "train_dataset = torchvision.datasets.CIFAR10(root='../data', train=True, download=True, transform=transform)\n",
    "test_dataset = torchvision.datasets.CIFAR10(root='../data', train=False, download=True, transform=transform)\n",
    "\n",
    "train_loader = DataLoader(train_dataset, batch_size=batch_size, shuffle=True)\n",
    "test_loader = DataLoader(test_dataset, batch_size=batch_size, shuffle=False)\n"
   ]
  },
  {
   "cell_type": "code",
   "execution_count": 5,
   "metadata": {},
   "outputs": [],
   "source": [
    "# 定义Vision Transformer模型\n",
    "class VisionTransformer(nn.Module):\n",
    "    def __init__(self, num_classes=10, image_size=32, patch_size=4, hidden_dim=128, num_heads=8, num_layers=2):\n",
    "        super(VisionTransformer, self).__init__()\n",
    "        \n",
    "        self.embedding = nn.Conv2d(3, hidden_dim, kernel_size=patch_size, stride=patch_size)\n",
    "        self.transformer = nn.TransformerEncoder(nn.TransformerEncoderLayer(d_model=hidden_dim, nhead=num_heads), num_layers)\n",
    "        self.fc = nn.Linear(hidden_dim * (image_size // patch_size) ** 2, num_classes)\n",
    "\n",
    "    def forward(self, x):\n",
    "        x = self.embedding(x)\n",
    "        x = x.flatten(2).permute(2, 0, 1)\n",
    "        x = self.transformer(x)\n",
    "        x = x.permute(1, 0, 2).flatten(1)\n",
    "        x = self.fc(x)\n",
    "        return x"
   ]
  },
  {
   "cell_type": "code",
   "execution_count": 6,
   "metadata": {},
   "outputs": [],
   "source": [
    "# 定义Vision Transformer模型\n",
    "class VisionTransformer1(nn.Module):\n",
    "    def __init__(self, num_classes=10, image_size=32, patch_size=4, hidden_dim=128, num_heads=8, num_layers=1):\n",
    "        super(VisionTransformer1, self).__init__()\n",
    "        self.conv1 = nn.Conv2d(3, 6, 5, padding=2) # 28x28\n",
    "        self.pool1 = nn.MaxPool2d(2, 2) # 14x14\n",
    "        self.conv2 = nn.Conv2d(6, 16, 5, padding=2) # 10x10\n",
    "        self.pool2 = nn.MaxPool2d(2, 2) # 5x5\n",
    "        self.conv3 = nn.Conv2d(16, 128, 5)\n",
    "\n",
    "        # self.embedding = nn.Conv2d(3, hidden_dim, kernel_size=patch_size, stride=patch_size)\n",
    "        self.transformer = nn.TransformerEncoder(nn.TransformerEncoderLayer(d_model=hidden_dim, nhead=num_heads), num_layers)\n",
    "        self.fc = nn.Linear(2048, 1024)\n",
    "        self.fc1 = nn.Linear(1024,128)\n",
    "        self.fc2 = nn.Linear(128, 10)\n",
    "    \n",
    "    def forward(self, x):\n",
    "        out = self.conv1(x) #24\n",
    "        out = F.relu(out)\n",
    "        out = self.pool1(out)  #12\n",
    "        out = self.conv2(out) #10\n",
    "        out = F.relu(out)\n",
    "        out = self.pool2(out)\n",
    "        out = self.conv3(out)\n",
    "        \n",
    "        # out = F.interpolate(out, size=(32, 32), mode='bilinear', align_corners=False)\n",
    "        # out = self.embedding(x)\n",
    "        out = out.flatten(2).permute(2, 0, 1)\n",
    "        out = self.transformer(out)\n",
    "        out = out.permute(1, 0, 2).flatten(1)\n",
    "        \n",
    "        out = self.fc(out)\n",
    "        out = self.fc1(out)\n",
    "        out = self.fc2(out)\n",
    "        return out"
   ]
  },
  {
   "cell_type": "code",
   "execution_count": 7,
   "metadata": {},
   "outputs": [],
   "source": [
    "# 定义ResNet18模型\n",
    "class ResNet18(nn.Module):\n",
    "    def __init__(self, num_classes=10):\n",
    "        super(ResNet18, self).__init__()\n",
    "        \n",
    "        self.conv1 = nn.Conv2d(3, 64, kernel_size=3, stride=1, padding=1, bias=False)\n",
    "        self.bn1 = nn.BatchNorm2d(64)\n",
    "        self.relu = nn.ReLU(inplace=True)\n",
    "        \n",
    "        self.layer1 = nn.Sequential(\n",
    "            nn.Conv2d(64, 64, kernel_size=3, stride=1, padding=1, bias=False),\n",
    "            nn.BatchNorm2d(64),\n",
    "            nn.ReLU(inplace=True),\n",
    "            nn.Conv2d(64, 64, kernel_size=3, stride=1, padding=1, bias=False),\n",
    "            nn.BatchNorm2d(64)\n",
    "        )\n",
    "        \n",
    "        self.layer2 = nn.Sequential(\n",
    "            nn.Conv2d(64, 128, kernel_size=3, stride=2, padding=1, bias=False),\n",
    "            nn.BatchNorm2d(128),\n",
    "            nn.ReLU(inplace=True),\n",
    "            nn.Conv2d(128, 128, kernel_size=3, stride=1, padding=1, bias=False),\n",
    "            nn.BatchNorm2d(128)\n",
    "        )\n",
    "        \n",
    "        self.layer3 = nn.Sequential(\n",
    "            nn.Conv2d(128, 256, kernel_size=3, stride=2, padding=1, bias=False),\n",
    "            nn.BatchNorm2d(256),\n",
    "            nn.ReLU(inplace=True),\n",
    "            nn.Conv2d(256, 256, kernel_size=3, stride=1, padding=1, bias=False),\n",
    "            nn.BatchNorm2d(256)\n",
    "        )\n",
    "        \n",
    "        self.layer4 = nn.Sequential(\n",
    "            nn.Conv2d(256, 512, kernel_size=3, stride=2, padding=1, bias=False),\n",
    "            nn.BatchNorm2d(512),\n",
    "            nn.ReLU(inplace=True),\n",
    "            nn.Conv2d(512, 512, kernel_size=3, stride=1, padding=1, bias=False),\n",
    "            nn.BatchNorm2d(512)\n",
    "        )\n",
    "        \n",
    "        self.avgpool = nn.AdaptiveAvgPool2d((1, 1))\n",
    "        self.fc = nn.Linear(512, num_classes)\n",
    "        \n",
    "        self.identity_conv1 = nn.Conv2d(64, 128, kernel_size=1, stride=2, padding=0, bias=False)\n",
    "        self.identity_conv2 = nn.Conv2d(128, 256, kernel_size=1, stride=2, padding=0, bias=False)\n",
    "        self.identity_conv3 = nn.Conv2d(256 , 512, kernel_size=1, stride=2, padding=0, bias=False)\n",
    "\n",
    "    def forward(self, x):\n",
    "        x = self.conv1(x)\n",
    "        x = self.bn1(x)\n",
    "        x = self.relu(x)\n",
    "        \n",
    "        x1 = self.layer1(x)\n",
    "        x = x + x1\n",
    "        \n",
    "        x2 = self.layer2(x1)\n",
    "        x1_identity = self.identity_conv1(x)\n",
    "        x = x1_identity + x2\n",
    "        \n",
    "        x3 = self.layer3(x)\n",
    "        x2_identity = self.identity_conv2(x)\n",
    "        x = x2_identity + x3\n",
    "        \n",
    "        x4 = self.layer4(x)\n",
    "        x3_identity = self.identity_conv3(x)\n",
    "        x = x3_identity + x4\n",
    "        \n",
    "        x = self.avgpool(x)\n",
    "        x = x.view(x.size(0), -1)\n",
    "        x = self.fc(x)\n",
    "        return x"
   ]
  },
  {
   "cell_type": "code",
   "execution_count": 8,
   "metadata": {},
   "outputs": [
    {
     "data": {
      "text/plain": [
       "<All keys matched successfully>"
      ]
     },
     "execution_count": 8,
     "metadata": {},
     "output_type": "execute_result"
    }
   ],
   "source": [
    "# 初始化VIT模型\n",
    "model1 = VisionTransformer().to(device)\n",
    "model1.load_state_dict(torch.load('5ViT2.pth'))\n",
    "\n",
    "model2 = ResNet18().to(device)\n",
    "model2.load_state_dict(torch.load('ResNet18.pth'))\n",
    "\n",
    "# 初始化VIT模型\n",
    "model3 = VisionTransformer1().to(device)\n",
    "model3.load_state_dict(torch.load('2LeNet_ViT.pth'))"
   ]
  },
  {
   "cell_type": "code",
   "execution_count": 13,
   "metadata": {},
   "outputs": [
    {
     "name": "stdout",
     "output_type": "stream",
     "text": [
      "Ensemble Test Accuracy: 79.89%\n",
      "Model 1 Test Accuracy: 78.50%\n",
      "Model 2 Test Accuracy: 79.89%\n",
      "Model 3 Test Accuracy: 77.31%\n"
     ]
    }
   ],
   "source": [
    "from collections import Counter\n",
    "\n",
    "# 初始化计数器\n",
    "correct = 0\n",
    "total = 0\n",
    "correct1 = 0\n",
    "correct2 = 0\n",
    "correct3 = 0\n",
    "\n",
    "# 确保模型处于评估模式\n",
    "model1.eval()\n",
    "model2.eval()\n",
    "model3.eval()\n",
    "\n",
    "with torch.no_grad():\n",
    "    for images, labels in test_loader:\n",
    "        images = images.to(device)\n",
    "        labels = labels.to(device)\n",
    "\n",
    "        # 分别获取每个模型的输出\n",
    "        outputs1 = model1(images)\n",
    "        outputs2 = model2(images)\n",
    "        outputs3 = model3(images)\n",
    "\n",
    "        # 将输出转换为预测类别\n",
    "        _, predicted1 = torch.max(outputs1.data, 1)\n",
    "        _, predicted2 = torch.max(outputs2.data, 1)\n",
    "        _, predicted3 = torch.max(outputs3.data, 1)\n",
    "\n",
    "        total += labels.size(0)\n",
    "\n",
    "        # 计算集成模型的准确率\n",
    "        for i in range(labels.size(0)):\n",
    "            predictions = [predicted2[i], predicted3[i],predicted1[i]]\n",
    "            counter = Counter(predictions)\n",
    "            most_common = counter.most_common(1)[0][0]\n",
    "            correct += (most_common == labels[i]).item()\n",
    "\n",
    "            # 单独计算每个模型的准确率\n",
    "            correct1 += (predicted1[i] == labels[i]).item()\n",
    "            correct2 += (predicted2[i] == labels[i]).item()\n",
    "            correct3 += (predicted3[i] == labels[i]).item()\n",
    "\n",
    "# 计算并打印准确率\n",
    "accuracy = 100 * correct / total\n",
    "accuracy1 = 100 * correct1 / total\n",
    "accuracy2 = 100 * correct2 / total\n",
    "accuracy3 = 100 * correct3 / total\n",
    "\n",
    "print(f\"Ensemble Test Accuracy: {accuracy:.2f}%\")\n",
    "print(f\"Model 1 Test Accuracy: {accuracy1:.2f}%\")\n",
    "print(f\"Model 2 Test Accuracy: {accuracy2:.2f}%\")\n",
    "print(f\"Model 3 Test Accuracy: {accuracy3:.2f}%\")\n"
   ]
  }
 ],
 "metadata": {
  "kernelspec": {
   "display_name": "cvnets",
   "language": "python",
   "name": "python3"
  },
  "language_info": {
   "codemirror_mode": {
    "name": "ipython",
    "version": 3
   },
   "file_extension": ".py",
   "mimetype": "text/x-python",
   "name": "python",
   "nbconvert_exporter": "python",
   "pygments_lexer": "ipython3",
   "version": "3.10.8"
  }
 },
 "nbformat": 4,
 "nbformat_minor": 2
}
